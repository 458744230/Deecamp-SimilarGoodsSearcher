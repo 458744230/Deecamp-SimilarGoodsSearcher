{
 "cells": [
  {
   "cell_type": "code",
   "execution_count": 8,
   "metadata": {},
   "outputs": [],
   "source": [
    "import os , io"
   ]
  },
  {
   "cell_type": "code",
   "execution_count": 9,
   "metadata": {},
   "outputs": [],
   "source": [
    "def sku_to_name():\n",
    "    classes_dir = '/data/code/supermantou/flask/PTNET/classes_txt/'\n",
    "    sku_name_file = os.path.join(classes_dir, 'sku_name_file.txt')\n",
    "    sku_name_dict = {}\n",
    "    name_sku_dict = {}\n",
    "    with io.open(sku_name_file,'r',encoding='utf8') as f:\n",
    "        for line in f.readlines():\n",
    "            pair = line.strip().split()\n",
    "            sku_name_dict[pair[0]] = pair[1]\n",
    "            name_sku_dict[pair[1]] = pair[0]\n",
    "    return sku_name_dict,name_sku_dict\n"
   ]
  },
  {
   "cell_type": "code",
   "execution_count": 13,
   "metadata": {},
   "outputs": [],
   "source": [
    "sku2name,_ = sku_to_name()\n",
    "fw = io.open('./class100_names.txt','w',encoding='utf8')\n",
    "with open(\"./train.txt\",\"r\",encoding='utf8') as f:\n",
    "    for line in f.readlines():\n",
    "        labelID = line.strip()\n",
    "        fw.write(sku2name[labelID] + '\\n')\n",
    "fw.close()"
   ]
  },
  {
   "cell_type": "code",
   "execution_count": null,
   "metadata": {},
   "outputs": [],
   "source": []
  }
 ],
 "metadata": {
  "kernelspec": {
   "display_name": "Python 3",
   "language": "python",
   "name": "python3"
  },
  "language_info": {
   "codemirror_mode": {
    "name": "ipython",
    "version": 3
   },
   "file_extension": ".py",
   "mimetype": "text/x-python",
   "name": "python",
   "nbconvert_exporter": "python",
   "pygments_lexer": "ipython3",
   "version": "3.6.5"
  }
 },
 "nbformat": 4,
 "nbformat_minor": 2
}
